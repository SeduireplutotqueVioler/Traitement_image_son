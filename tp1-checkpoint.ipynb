{
 "cells": [
  {
   "cell_type": "code",
   "execution_count": 1,
   "metadata": {},
   "outputs": [
    {
     "name": "stdout",
     "output_type": "stream",
     "text": [
      "Populating the interactive namespace from numpy and matplotlib\n"
     ]
    }
   ],
   "source": [
    "%pylab inline\n",
    "import os\n",
    "import struct"
   ]
  },
  {
   "cell_type": "code",
   "execution_count": 2,
   "metadata": {},
   "outputs": [],
   "source": [
    "def passagesparzeros(T):\n",
    "    nb = 0\n",
    "    if T[0] > 0:\n",
    "        valeur = 1\n",
    "    else:\n",
    "        if T[0] < 0:\n",
    "            valeur = -1\n",
    "        else:\n",
    "            valeur = 0\n",
    "            nb += 1\n",
    "    i = 1\n",
    "    while(i < len(T)):\n",
    "        if T[i] > 0 and valeur == -1:\n",
    "            valeur = 1\n",
    "            nb += 1\n",
    "        if T[i] < 0 and valeur == 1:\n",
    "            valeur = -1\n",
    "            nb += 1\n",
    "        if valeur == 0 :\n",
    "            if T[i] > 0:\n",
    "                valeur = 1\n",
    "            if T[i] < 0:\n",
    "                valeur = -1\n",
    "        i += 1\n",
    "    return nb"
   ]
  },
  {
   "cell_type": "code",
   "execution_count": 3,
   "metadata": {},
   "outputs": [],
   "source": [
    "def liredonnees(Fichier):\n",
    "    with open(Fichier, 'rb') as f:\n",
    "        T = []\n",
    "        for i in range(0, int(os.stat(Fichier).st_size/2)):\n",
    "            T.append(struct.unpack(\"<h\", f.read(2))[0])\n",
    "    f.close()\n",
    "    return T"
   ]
  },
  {
   "cell_type": "code",
   "execution_count": 24,
   "metadata": {},
   "outputs": [
    {
     "data": {
      "text/plain": [
       "'\\ni = 48\\nGT = []\\nwhile(i <= 57):\\n    T2 = []\\n    string = chr(i) + \".raw\"\\n    T = liredonnees(string)\\n    GT.append(T)\\n    for k in range(0, len(GT[-1])):\\n        T2.append(k)\\n    plot(T2, GT[-1])\\n    i += 1\\ni = 97\\nGT = []\\nwhile(i <= 122):\\n    T2 = []\\n    string = chr(i) + \".raw\"\\n    T = liredonnees(string)\\n    GT.append(T)\\n    for k in range(0, len(GT[-1])):\\n        T2.append(k)\\n    plot(T2, GT[-1])\\n    i += 1\\n'"
      ]
     },
     "execution_count": 24,
     "metadata": {},
     "output_type": "execute_result"
    }
   ],
   "source": [
    "\"\"\"\n",
    "i = 48\n",
    "GT = []\n",
    "while(i <= 57):\n",
    "    T2 = []\n",
    "    string = chr(i) + \".raw\"\n",
    "    T = liredonnees(string)\n",
    "    GT.append(T)\n",
    "    for k in range(0, len(GT[-1])):\n",
    "        T2.append(k)\n",
    "    plot(T2, GT[-1])\n",
    "    i += 1\n",
    "i = 97\n",
    "GT = []\n",
    "while(i <= 122):\n",
    "    T2 = []\n",
    "    string = chr(i) + \".raw\"\n",
    "    T = liredonnees(string)\n",
    "    GT.append(T)\n",
    "    for k in range(0, len(GT[-1])):\n",
    "        T2.append(k)\n",
    "    plot(T2, GT[-1])\n",
    "    i += 1\n",
    "\"\"\""
   ]
  },
  {
   "cell_type": "code",
   "execution_count": null,
   "metadata": {},
   "outputs": [],
   "source": []
  }
 ],
 "metadata": {
  "kernelspec": {
   "display_name": "Python 3",
   "language": "python",
   "name": "python3"
  },
  "language_info": {
   "codemirror_mode": {
    "name": "ipython",
    "version": 3
   },
   "file_extension": ".py",
   "mimetype": "text/x-python",
   "name": "python",
   "nbconvert_exporter": "python",
   "pygments_lexer": "ipython3",
   "version": "3.6.5"
  }
 },
 "nbformat": 4,
 "nbformat_minor": 2
}
